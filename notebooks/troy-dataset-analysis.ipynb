{
 "cells": [
  {
   "cell_type": "markdown",
   "metadata": {},
   "source": [
    "# Global setting"
   ]
  },
  {
   "cell_type": "code",
   "execution_count": 1,
   "metadata": {},
   "outputs": [],
   "source": [
    "import matplotlib.pyplot as plt\n",
    "\n",
    "plt.rcParams['figure.figsize'] = [8, 5]\n",
    "plt.rcParams['figure.dpi'] = 100 # 200 e.g. is really fine, but slower"
   ]
  },
  {
   "cell_type": "markdown",
   "metadata": {},
   "source": [
    "# load dataset"
   ]
  },
  {
   "cell_type": "code",
   "execution_count": 2,
   "metadata": {},
   "outputs": [
    {
     "name": "stderr",
     "output_type": "stream",
     "text": [
      "100%|██████████| 200/200 [00:00<00:00, 5770.64it/s]\n"
     ]
    }
   ],
   "source": [
    "import gzip\n",
    "import json\n",
    "\n",
    "import numpy as np\n",
    "from tqdm import tqdm\n",
    "\n",
    "\n",
    "dataset_path = '../data/troy.jl.gz'\n",
    "\n",
    "with gzip.open(dataset_path) as json_file:\n",
    "    json_dicts = np.array([json.loads(line) for line in json_file])\n",
    "    dataset = [[jd['file_name'],\n",
    "                jd['table_id'],\n",
    "                np.array(jd['table_array']),\n",
    "                jd['aggregation_annotations'],\n",
    "                np.array(['annotations'])\n",
    "                ]\n",
    "                for jd in tqdm(json_dicts)]"
   ]
  },
  {
   "cell_type": "code",
   "execution_count": 3,
   "metadata": {},
   "outputs": [],
   "source": [
    "def normalize_number(value):\n",
    "    pass"
   ]
  },
  {
   "cell_type": "markdown",
   "metadata": {},
   "source": [
    "# Statistics"
   ]
  },
  {
   "cell_type": "code",
   "execution_count": 4,
   "metadata": {},
   "outputs": [],
   "source": [
    "ds_list = []\n",
    "\n",
    "aggregatee_group_count = 0\n",
    "for file in dataset:\n",
    "    file_name = file[0]\n",
    "    table_id = file[1]\n",
    "    aggr_annotations = file[3]\n",
    "    if not aggr_annotations:\n",
    "        continue\n",
    "    for annotation in aggr_annotations:\n",
    "        error_bound = annotation['error_bound']\n",
    "        aggregatee_indices = annotation['aggregatee_indices']\n",
    "        aggregator_index = annotation['aggregator_index']\n",
    "        operator = annotation['operator']\n",
    "        value = file[2][aggregator_index[0]][aggregator_index[1]]\n",
    "        for aggregatee_index in aggregatee_indices:\n",
    "            ds_list.append([file_name, table_id, value, str(aggregator_index), str(aggregatee_index), operator, error_bound, aggregatee_group_count])\n",
    "        aggregatee_group_count += 1"
   ]
  },
  {
   "cell_type": "code",
   "execution_count": 5,
   "metadata": {},
   "outputs": [],
   "source": [
    "import pandas\n",
    "\n",
    "df = pandas.DataFrame(data=ds_list, columns=['file_name', 'sheet_name', 'value', 'aggregator_index', 'aggregatee_index', 'operator', 'error_bound', 'aggregatee_group'])"
   ]
  },
  {
   "cell_type": "code",
   "execution_count": 6,
   "metadata": {},
   "outputs": [
    {
     "data": {
      "text/html": [
       "<div>\n",
       "<style scoped>\n",
       "    .dataframe tbody tr th:only-of-type {\n",
       "        vertical-align: middle;\n",
       "    }\n",
       "\n",
       "    .dataframe tbody tr th {\n",
       "        vertical-align: top;\n",
       "    }\n",
       "\n",
       "    .dataframe thead th {\n",
       "        text-align: right;\n",
       "    }\n",
       "</style>\n",
       "<table border=\"1\" class=\"dataframe\">\n",
       "  <thead>\n",
       "    <tr style=\"text-align: right;\">\n",
       "      <th></th>\n",
       "      <th>file_name</th>\n",
       "      <th>sheet_name</th>\n",
       "      <th>value</th>\n",
       "      <th>aggregator_index</th>\n",
       "      <th>aggregatee_index</th>\n",
       "      <th>operator</th>\n",
       "      <th>error_bound</th>\n",
       "      <th>aggregatee_group</th>\n",
       "    </tr>\n",
       "  </thead>\n",
       "  <tbody>\n",
       "    <tr>\n",
       "      <th>0</th>\n",
       "      <td>C10001</td>\n",
       "      <td>C10001</td>\n",
       "      <td>-3 970</td>\n",
       "      <td>[8, 6]</td>\n",
       "      <td>[8, 4]</td>\n",
       "      <td>Subtract</td>\n",
       "      <td>1.0</td>\n",
       "      <td>0</td>\n",
       "    </tr>\n",
       "    <tr>\n",
       "      <th>1</th>\n",
       "      <td>C10001</td>\n",
       "      <td>C10001</td>\n",
       "      <td>-3 970</td>\n",
       "      <td>[8, 6]</td>\n",
       "      <td>[8, 5]</td>\n",
       "      <td>Subtract</td>\n",
       "      <td>1.0</td>\n",
       "      <td>0</td>\n",
       "    </tr>\n",
       "    <tr>\n",
       "      <th>2</th>\n",
       "      <td>C10001</td>\n",
       "      <td>C10001</td>\n",
       "      <td>-22 689</td>\n",
       "      <td>[6, 3]</td>\n",
       "      <td>[6, 1]</td>\n",
       "      <td>Subtract</td>\n",
       "      <td>1.0</td>\n",
       "      <td>1</td>\n",
       "    </tr>\n",
       "    <tr>\n",
       "      <th>3</th>\n",
       "      <td>C10001</td>\n",
       "      <td>C10001</td>\n",
       "      <td>-22 689</td>\n",
       "      <td>[6, 3]</td>\n",
       "      <td>[6, 2]</td>\n",
       "      <td>Subtract</td>\n",
       "      <td>1.0</td>\n",
       "      <td>1</td>\n",
       "    </tr>\n",
       "    <tr>\n",
       "      <th>4</th>\n",
       "      <td>C10001</td>\n",
       "      <td>C10001</td>\n",
       "      <td>-25 819</td>\n",
       "      <td>[5, 3]</td>\n",
       "      <td>[5, 6]</td>\n",
       "      <td>Sum</td>\n",
       "      <td>1.0</td>\n",
       "      <td>2</td>\n",
       "    </tr>\n",
       "    <tr>\n",
       "      <th>...</th>\n",
       "      <td>...</td>\n",
       "      <td>...</td>\n",
       "      <td>...</td>\n",
       "      <td>...</td>\n",
       "      <td>...</td>\n",
       "      <td>...</td>\n",
       "      <td>...</td>\n",
       "      <td>...</td>\n",
       "    </tr>\n",
       "    <tr>\n",
       "      <th>13228</th>\n",
       "      <td>C10199</td>\n",
       "      <td>C10199</td>\n",
       "      <td>2354.8</td>\n",
       "      <td>[5, 5]</td>\n",
       "      <td>[5, 4]</td>\n",
       "      <td>Sum</td>\n",
       "      <td>0.0</td>\n",
       "      <td>2892</td>\n",
       "    </tr>\n",
       "    <tr>\n",
       "      <th>13229</th>\n",
       "      <td>C10199</td>\n",
       "      <td>C10199</td>\n",
       "      <td>4602.9</td>\n",
       "      <td>[40, 5]</td>\n",
       "      <td>[40, 1]</td>\n",
       "      <td>Sum</td>\n",
       "      <td>0.0</td>\n",
       "      <td>2893</td>\n",
       "    </tr>\n",
       "    <tr>\n",
       "      <th>13230</th>\n",
       "      <td>C10199</td>\n",
       "      <td>C10199</td>\n",
       "      <td>4602.9</td>\n",
       "      <td>[40, 5]</td>\n",
       "      <td>[40, 2]</td>\n",
       "      <td>Sum</td>\n",
       "      <td>0.0</td>\n",
       "      <td>2893</td>\n",
       "    </tr>\n",
       "    <tr>\n",
       "      <th>13231</th>\n",
       "      <td>C10199</td>\n",
       "      <td>C10199</td>\n",
       "      <td>4602.9</td>\n",
       "      <td>[40, 5]</td>\n",
       "      <td>[40, 3]</td>\n",
       "      <td>Sum</td>\n",
       "      <td>0.0</td>\n",
       "      <td>2893</td>\n",
       "    </tr>\n",
       "    <tr>\n",
       "      <th>13232</th>\n",
       "      <td>C10199</td>\n",
       "      <td>C10199</td>\n",
       "      <td>4602.9</td>\n",
       "      <td>[40, 5]</td>\n",
       "      <td>[40, 4]</td>\n",
       "      <td>Sum</td>\n",
       "      <td>0.0</td>\n",
       "      <td>2893</td>\n",
       "    </tr>\n",
       "  </tbody>\n",
       "</table>\n",
       "<p>13233 rows × 8 columns</p>\n",
       "</div>"
      ],
      "text/plain": [
       "      file_name sheet_name    value aggregator_index aggregatee_index  \\\n",
       "0        C10001     C10001   -3 970           [8, 6]           [8, 4]   \n",
       "1        C10001     C10001   -3 970           [8, 6]           [8, 5]   \n",
       "2        C10001     C10001  -22 689           [6, 3]           [6, 1]   \n",
       "3        C10001     C10001  -22 689           [6, 3]           [6, 2]   \n",
       "4        C10001     C10001  -25 819           [5, 3]           [5, 6]   \n",
       "...         ...        ...      ...              ...              ...   \n",
       "13228    C10199     C10199   2354.8           [5, 5]           [5, 4]   \n",
       "13229    C10199     C10199   4602.9          [40, 5]          [40, 1]   \n",
       "13230    C10199     C10199   4602.9          [40, 5]          [40, 2]   \n",
       "13231    C10199     C10199   4602.9          [40, 5]          [40, 3]   \n",
       "13232    C10199     C10199   4602.9          [40, 5]          [40, 4]   \n",
       "\n",
       "       operator  error_bound  aggregatee_group  \n",
       "0      Subtract          1.0                 0  \n",
       "1      Subtract          1.0                 0  \n",
       "2      Subtract          1.0                 1  \n",
       "3      Subtract          1.0                 1  \n",
       "4           Sum          1.0                 2  \n",
       "...         ...          ...               ...  \n",
       "13228       Sum          0.0              2892  \n",
       "13229       Sum          0.0              2893  \n",
       "13230       Sum          0.0              2893  \n",
       "13231       Sum          0.0              2893  \n",
       "13232       Sum          0.0              2893  \n",
       "\n",
       "[13233 rows x 8 columns]"
      ]
     },
     "execution_count": 6,
     "metadata": {},
     "output_type": "execute_result"
    }
   ],
   "source": [
    "df"
   ]
  },
  {
   "cell_type": "markdown",
   "metadata": {},
   "source": [
    "# Distribution of operators in all aggregation relations"
   ]
  },
  {
   "cell_type": "markdown",
   "metadata": {},
   "source": [
    "# How many times a cell is used as aggregator?"
   ]
  },
  {
   "cell_type": "code",
   "execution_count": 7,
   "metadata": {},
   "outputs": [
    {
     "data": {
      "image/png": "[encoded data removed]",
      "text/plain": [
       "<Figure size 800x500 with 1 Axes>"
      ]
     },
     "metadata": {},
     "output_type": "display_data"
    }
   ],
   "source": [
    "groups = df.groupby(['file_name', 'sheet_name', 'aggregator_index'])['aggregatee_group'].nunique()\n",
    "\n",
    "unique_counts = np.unique(groups, return_counts=True)\n",
    "\n",
    "# Pie chart, where the slices will be ordered and plotted counter-clockwise:\n",
    "used_times = unique_counts[0]\n",
    "count = unique_counts[1]\n",
    "\n",
    "percentage = 100.*count/count.sum()\n",
    "labels = ['{0} - {1:.2f}%'.format(i, j) for i, j in zip(used_times, percentage)]\n",
    "\n",
    "fig, ax1 = plt.subplots()\n",
    "ax1.pie(count, radius=1.2, startangle=90)\n",
    "ax1.axis('equal')  # Equal aspect ratio ensures that pie is drawn as a circle.\n",
    "ax1.set_title('How many times a cell is used as aggregator?')\n",
    "\n",
    "plt.legend(labels, loc='center right', bbox_to_anchor=(1.2,0.5), fontsize=16)\n",
    "\n",
    "plt.show()"
   ]
  },
  {
   "cell_type": "markdown",
   "metadata": {},
   "source": [
    "# How many times a cell is used as aggregatee?"
   ]
  },
  {
   "cell_type": "code",
   "execution_count": 8,
   "metadata": {},
   "outputs": [
    {
     "data": {
      "image/png": "[encoded data removed]",
      "text/plain": [
       "<Figure size 800x500 with 1 Axes>"
      ]
     },
     "metadata": {},
     "output_type": "display_data"
    }
   ],
   "source": [
    "groups = df.groupby(['file_name', 'sheet_name', 'aggregatee_index']).size().reset_index(name='counts')\n",
    "\n",
    "unique_counts = np.unique(groups['counts'], return_counts=True)\n",
    "\n",
    "# Pie chart, where the slices will be ordered and plotted counter-clockwise:\n",
    "used_times = unique_counts[0]\n",
    "count = unique_counts[1]\n",
    "\n",
    "fig, ax1 = plt.subplots()\n",
    "ax1.pie(count, radius=1.2, startangle=90)\n",
    "ax1.axis('equal')  # Equal aspect ratio ensures that pie is drawn as a circle.\n",
    "ax1.set_title('How many times a cell is used as aggregatee?')\n",
    "\n",
    "percentage = 100.*count/count.sum()\n",
    "labels = ['{0} - {1:.2f} %'.format(i, j) for i, j in zip(used_times, percentage)]\n",
    "\n",
    "plt.legend(labels, loc='center right', bbox_to_anchor=(1.2,0.5), fontsize=16)\n",
    "\n",
    "plt.show()"
   ]
  },
  {
   "cell_type": "code",
   "execution_count": 9,
   "metadata": {},
   "outputs": [
    {
     "data": {
      "image/png": "[encoded data removed]",
      "text/plain": [
       "<Figure size 800x500 with 1 Axes>"
      ]
     },
     "metadata": {},
     "output_type": "display_data"
    }
   ],
   "source": [
    "groups = df.groupby(['aggregatee_group', 'operator'])\n",
    "\n",
    "keys = [key[1] for key, _ in groups]\n",
    "\n",
    "unique_counts = np.unique(keys, return_counts=True)\n",
    "\n",
    "# Pie chart, where the slices will be ordered and plotted counter-clockwise:\n",
    "used_times = unique_counts[0]\n",
    "count = unique_counts[1]\n",
    "\n",
    "fig, ax1 = plt.subplots()\n",
    "ax1.pie(count, radius=1.2, startangle=90)\n",
    "ax1.axis('equal')  # Equal aspect ratio ensures that pie is drawn as a circle.\n",
    "ax1.set_title('Distribution of operators in all aggregation relations')\n",
    "\n",
    "percentage = 100.*count/count.sum()\n",
    "labels = ['{0} - {1:.2f} %'.format(i, j) for i, j in zip(used_times, percentage)]\n",
    "\n",
    "plt.legend(labels, loc='center right', bbox_to_anchor=(1.4,0.5), fontsize=16)\n",
    "\n",
    "plt.show()"
   ]
  },
  {
   "cell_type": "code",
   "execution_count": 10,
   "metadata": {},
   "outputs": [
    {
     "data": {
      "text/plain": [
       "(array(['Average', 'Percentage', 'Subtract', 'Sum'], dtype='<U10'),\n",
       " array([ 113,  550,  184, 2047]))"
      ]
     },
     "execution_count": 10,
     "metadata": {},
     "output_type": "execute_result"
    }
   ],
   "source": [
    "unique_counts"
   ]
  },
  {
   "cell_type": "markdown",
   "metadata": {},
   "source": [
    "# How many aggregations are hopping?"
   ]
  },
  {
   "cell_type": "code",
   "execution_count": 11,
   "metadata": {},
   "outputs": [
    {
     "data": {
      "text/plain": [
       "{'Subtract': [75, 109],\n",
       " 'Sum': [279, 1768],\n",
       " 'Percentage': [197, 353],\n",
       " 'Average': [0, 113]}"
      ]
     },
     "execution_count": 11,
     "metadata": {},
     "output_type": "execute_result"
    }
   ],
   "source": [
    "groups = df.groupby(['aggregatee_group'])\n",
    "\n",
    "import ast\n",
    "\n",
    "hopping_distribution = {}\n",
    "\n",
    "for name, group in groups:\n",
    "    is_hopping = True\n",
    "    for index, row in group.iterrows():\n",
    "        operator = row['operator']\n",
    "        aggor = ast.literal_eval(row['aggregator_index'])\n",
    "        aggee = ast.literal_eval(row['aggregatee_index'])\n",
    "        if aggee[0] == aggor[0] + 1 or aggee[0] == aggor[0] - 1 or aggee[1] == aggor[1] + 1 or aggee[1] == aggor[1] - 1:\n",
    "            is_hopping = False\n",
    "            break\n",
    "    if operator not in hopping_distribution:\n",
    "        hopping_distribution[operator] = [0, 0]\n",
    "    if is_hopping:\n",
    "        hopping_distribution[operator][0] += 1 \n",
    "    else:\n",
    "        hopping_distribution[operator][1] += 1\n",
    "\n",
    "hopping_distribution"
   ]
  },
  {
   "cell_type": "code",
   "execution_count": 12,
   "metadata": {},
   "outputs": [
    {
     "data": {
      "image/png": "[encoded data removed]",
      "text/plain": [
       "<Figure size 800x500 with 1 Axes>"
      ]
     },
     "metadata": {
      "needs_background": "light"
     },
     "output_type": "display_data"
    }
   ],
   "source": [
    "fig, ax1 = plt.subplots()\n",
    "# Data\n",
    "r = [*hopping_distribution.keys()]\n",
    "raw_data = {'Non-hopping': [value[1] for _, value in hopping_distribution.items()], 'Hopping': [value[0] for _, value in hopping_distribution.items()]}\n",
    "df = pandas.DataFrame(raw_data)\n",
    " \n",
    "# From raw value to percentage\n",
    "totals = [i + j for i,j in zip(df['Non-hopping'], df['Hopping'])]\n",
    "non_hopping = [i / j * 100 for i,j in zip(df['Non-hopping'], totals)]\n",
    "hopping = [i / j * 100 for i,j in zip(df['Hopping'], totals)]\n",
    " \n",
    "# plot\n",
    "barWidth = 0.5\n",
    "names = tuple(r)\n",
    "# Create green Bars\n",
    "ax1.bar(r, non_hopping, edgecolor='white', width=barWidth, label='Non-hopping')\n",
    "# Create orange Bars\n",
    "ax1.bar(r, hopping, bottom=non_hopping, edgecolor='white', width=barWidth, label='Hopping')\n",
    "ax1.set_ylim([0, 110])\n",
    " \n",
    "# Custom x axis\n",
    "plt.xticks(r, names)\n",
    "\n",
    "# Add a legend\n",
    "plt.legend(loc='upper left', bbox_to_anchor=(1,1), fontsize=16)\n",
    " \n",
    "# Show graphic\n",
    "plt.show()\n"
   ]
  },
  {
   "cell_type": "markdown",
   "metadata": {},
   "source": [
    "# Correlation between aggregator and aggregation keywords"
   ]
  },
  {
   "cell_type": "code",
   "execution_count": 13,
   "metadata": {},
   "outputs": [],
   "source": [
    "ds_list = []\n",
    "\n",
    "aggregatee_group_count = 0\n",
    "for file in dataset:\n",
    "    file_name = file[0]\n",
    "    table_id = file[1]\n",
    "    file_value = file[2]\n",
    "    aggr_annotations = file[3]\n",
    "    if not aggr_annotations:\n",
    "        continue\n",
    "    for annotation in aggr_annotations:\n",
    "        error_bound = annotation['error_bound']\n",
    "        aggregatee_indices = annotation['aggregatee_indices']\n",
    "        aggregator_index = annotation['aggregator_index']\n",
    "        operator = annotation['operator']\n",
    "        value = file[2][aggregator_index[0]][aggregator_index[1]]\n",
    "        row_values = file_value[aggregator_index[0]]\n",
    "        column_values = [row[aggregator_index[1]] for row in file_value]\n",
    "        \n",
    "        ds_list.append([file_name, table_id, value, str(aggregator_index), str(aggregatee_indices), operator, error_bound, row_values, column_values, aggregatee_group_count])\n",
    "        \n",
    "df = pandas.DataFrame(data=ds_list, columns=['file_name', 'sheet_name', 'value', 'aggregator_index', 'aggregatee_indices', 'operator', 'error_bound', 'row_values', 'column_values', 'aggregatee_group'])"
   ]
  },
  {
   "cell_type": "code",
   "execution_count": 14,
   "metadata": {},
   "outputs": [
    {
     "data": {
      "text/plain": [
       "0        [8, 6]\n",
       "1        [6, 3]\n",
       "2        [5, 3]\n",
       "3        [6, 3]\n",
       "4        [3, 1]\n",
       "         ...   \n",
       "2889     [4, 5]\n",
       "2890    [23, 5]\n",
       "2891    [57, 5]\n",
       "2892     [5, 5]\n",
       "2893    [40, 5]\n",
       "Name: aggregator_index, Length: 2894, dtype: object"
      ]
     },
     "execution_count": 14,
     "metadata": {},
     "output_type": "execute_result"
    }
   ],
   "source": [
    "df['aggregator_index']"
   ]
  },
  {
   "cell_type": "code",
   "execution_count": 15,
   "metadata": {},
   "outputs": [],
   "source": [
    "def hasKeywords(kw_list, value_tokens):\n",
    "    contained_kws = set.intersection(set(kw_list), set(map(lambda x:x.lower(), value_tokens)))\n",
    "    if contained_kws:\n",
    "        return True\n",
    "    else:\n",
    "        return False"
   ]
  },
  {
   "cell_type": "code",
   "execution_count": 16,
   "metadata": {},
   "outputs": [],
   "source": [
    "sum_kw_list = ['total', 'all', 'sum']\n",
    "average_kw_list = ['average']\n",
    "percentage_kw_list = ['percentage', 'percent', 'increase']\n",
    "subtract_kw_list = ['difference', 'diff', 'minus']\n",
    "\n",
    "import itertools\n",
    "from nltk.tokenize import word_tokenize\n",
    "\n",
    "kw_distribution = {}\n",
    "\n",
    "for index, row in df.iterrows():\n",
    "    aggor_index = ast.literal_eval(row['aggregator_index'])\n",
    "    aggee_indices = ast.literal_eval(row['aggregatee_indices'])\n",
    "    column_values = row['column_values']\n",
    "    row_values = row['row_values']\n",
    "    if aggor_index[0] == aggee_indices[0][0]:\n",
    "        all_words = list(itertools.chain(*[word_tokenize(value) for value in column_values]))\n",
    "    elif aggor_index[1] == aggee_indices[0][1]:\n",
    "        all_words = list(itertools.chain(*[word_tokenize(value) for value in row_values]))\n",
    "    else:\n",
    "        continue\n",
    "    \n",
    "    operator = row['operator']\n",
    "    if operator == 'Sum':\n",
    "        aggr_kw_list = sum_kw_list\n",
    "    elif operator == 'Average':\n",
    "        aggr_kw_list = average_kw_list\n",
    "    elif operator == 'Percentage':\n",
    "        aggr_kw_list = percentage_kw_list\n",
    "    elif operator == 'Subtract':\n",
    "        aggr_kw_list = subtract_kw_list\n",
    "    else:\n",
    "        aggr_kw_list = []\n",
    "    \n",
    "    contained_kws = set.intersection(set(aggr_kw_list), set(map(lambda x:x.lower(), all_words)))\n",
    "    \n",
    "    if operator not in kw_distribution:\n",
    "        kw_distribution[operator] = [0, 0]\n",
    "    if contained_kws:\n",
    "        kw_distribution[operator][0] += 1 \n",
    "    else:\n",
    "        kw_distribution[operator][1] += 1"
   ]
  },
  {
   "cell_type": "code",
   "execution_count": 17,
   "metadata": {},
   "outputs": [
    {
     "data": {
      "text/plain": [
       "{'Subtract': [0, 184],\n",
       " 'Sum': [1145, 902],\n",
       " 'Percentage': [166, 384],\n",
       " 'Average': [0, 113]}"
      ]
     },
     "execution_count": 17,
     "metadata": {},
     "output_type": "execute_result"
    }
   ],
   "source": [
    "# first item: has keywords\n",
    "kw_distribution"
   ]
  },
  {
   "cell_type": "code",
   "execution_count": 18,
   "metadata": {},
   "outputs": [
    {
     "data": {
      "image/png": "[encoded data removed]",
      "text/plain": [
       "<Figure size 800x500 with 1 Axes>"
      ]
     },
     "metadata": {
      "needs_background": "light"
     },
     "output_type": "display_data"
    }
   ],
   "source": [
    "fig, ax1 = plt.subplots()\n",
    "# Data\n",
    "r = [*kw_distribution.keys()]\n",
    "raw_data = {'With keyword(s)': [value[0] for _, value in kw_distribution.items()], 'Without keyword(s)': [value[1] for _, value in kw_distribution.items()]}\n",
    "df = pandas.DataFrame(raw_data)\n",
    " \n",
    "# From raw value to percentage\n",
    "totals = [i + j for i,j in zip(df['With keyword(s)'], df['Without keyword(s)'])]\n",
    "w_kw = [i / j * 100 for i,j in zip(df['With keyword(s)'], totals)]\n",
    "wo_kw = [i / j * 100 for i,j in zip(df['Without keyword(s)'], totals)]\n",
    "\n",
    "# plot\n",
    "barWidth = 0.5\n",
    "names = tuple(r)\n",
    "# Create green Bars\n",
    "ax1.bar(r, w_kw, edgecolor='white', width=barWidth, label='With keyword(s)')\n",
    "# Create orange Bars\n",
    "ax1.bar(r, wo_kw, bottom=w_kw, edgecolor='white', width=barWidth, label='Without keyword(s)')\n",
    "ax1.set_ylim([0, 110])\n",
    " \n",
    "# Custom x axis\n",
    "plt.xticks(r, names)\n",
    "\n",
    "# Add a legend\n",
    "plt.legend(loc='upper left', bbox_to_anchor=(1,1), fontsize=16)\n",
    " \n",
    "# Show graphic\n",
    "plt.show()"
   ]
  },
  {
   "cell_type": "code",
   "execution_count": 97,
   "metadata": {
    "jupyter": {
     "source_hidden": true
    }
   },
   "outputs": [],
   "source": [
    "ds_list = []\n",
    "\n",
    "aggregatee_group_count = 0\n",
    "for file in dataset:\n",
    "    file_name = file[0]\n",
    "    table_id = file[1]\n",
    "    file_value = file[2]\n",
    "    aggr_annotations = file[3]\n",
    "    if not aggr_annotations:\n",
    "        continue\n",
    "    for annotation in aggr_annotations:\n",
    "        error_bound = annotation['error_bound']\n",
    "        aggregatee_indices = annotation['aggregatee_indices']\n",
    "        aggregator_row_index = annotation['aggregator_index'][0]\n",
    "        aggregator_column_index = annotation['aggregator_index'][1]\n",
    "        operator = annotation['operator']\n",
    "        value = file[2][aggregator_row_index][aggregator_column_index]\n",
    "     \n",
    "        ds_list.append([file_name, table_id, value, aggregator_row_index, aggregator_column_index, str(aggregatee_indices), operator, error_bound, aggregatee_group_count])\n",
    "        \n",
    "df = pandas.DataFrame(data=ds_list, columns=['file_name', 'sheet_name', 'value', 'aggregator_row_index', 'aggregator_column_index', 'aggregatee_indices', 'operator', 'error_bound', 'aggregatee_group'])"
   ]
  },
  {
   "cell_type": "code",
   "execution_count": 98,
   "metadata": {},
   "outputs": [
    {
     "data": {
      "text/html": [
       "<div>\n",
       "<style scoped>\n",
       "    .dataframe tbody tr th:only-of-type {\n",
       "        vertical-align: middle;\n",
       "    }\n",
       "\n",
       "    .dataframe tbody tr th {\n",
       "        vertical-align: top;\n",
       "    }\n",
       "\n",
       "    .dataframe thead th {\n",
       "        text-align: right;\n",
       "    }\n",
       "</style>\n",
       "<table border=\"1\" class=\"dataframe\">\n",
       "  <thead>\n",
       "    <tr style=\"text-align: right;\">\n",
       "      <th></th>\n",
       "      <th>file_name</th>\n",
       "      <th>sheet_name</th>\n",
       "      <th>value</th>\n",
       "      <th>aggregator_row_index</th>\n",
       "      <th>aggregator_column_index</th>\n",
       "      <th>aggregatee_indices</th>\n",
       "      <th>operator</th>\n",
       "      <th>error_bound</th>\n",
       "      <th>aggregatee_group</th>\n",
       "    </tr>\n",
       "  </thead>\n",
       "  <tbody>\n",
       "    <tr>\n",
       "      <th>0</th>\n",
       "      <td>C10001</td>\n",
       "      <td>C10001</td>\n",
       "      <td>-21 139</td>\n",
       "      <td>3</td>\n",
       "      <td>3</td>\n",
       "      <td>[[3, 2], [3, 1]]</td>\n",
       "      <td>Subtract</td>\n",
       "      <td>0.0</td>\n",
       "      <td>0</td>\n",
       "    </tr>\n",
       "    <tr>\n",
       "      <th>1</th>\n",
       "      <td>C10001</td>\n",
       "      <td>C10001</td>\n",
       "      <td>853</td>\n",
       "      <td>3</td>\n",
       "      <td>18</td>\n",
       "      <td>[[3, 16], [3, 17]]</td>\n",
       "      <td>Subtract</td>\n",
       "      <td>0.0</td>\n",
       "      <td>0</td>\n",
       "    </tr>\n",
       "    <tr>\n",
       "      <th>2</th>\n",
       "      <td>C10001</td>\n",
       "      <td>C10001</td>\n",
       "      <td>-5 450</td>\n",
       "      <td>6</td>\n",
       "      <td>6</td>\n",
       "      <td>[[6, 5], [6, 4]]</td>\n",
       "      <td>Subtract</td>\n",
       "      <td>0.0</td>\n",
       "      <td>0</td>\n",
       "    </tr>\n",
       "    <tr>\n",
       "      <th>3</th>\n",
       "      <td>C10001</td>\n",
       "      <td>C10001</td>\n",
       "      <td>-17 064</td>\n",
       "      <td>9</td>\n",
       "      <td>3</td>\n",
       "      <td>[[9, 1], [9, 2]]</td>\n",
       "      <td>Subtract</td>\n",
       "      <td>0.0</td>\n",
       "      <td>0</td>\n",
       "    </tr>\n",
       "    <tr>\n",
       "      <th>4</th>\n",
       "      <td>C10001</td>\n",
       "      <td>C10001</td>\n",
       "      <td>-3 682</td>\n",
       "      <td>9</td>\n",
       "      <td>6</td>\n",
       "      <td>[[9, 4], [9, 5]]</td>\n",
       "      <td>Subtract</td>\n",
       "      <td>0.0</td>\n",
       "      <td>0</td>\n",
       "    </tr>\n",
       "    <tr>\n",
       "      <th>...</th>\n",
       "      <td>...</td>\n",
       "      <td>...</td>\n",
       "      <td>...</td>\n",
       "      <td>...</td>\n",
       "      <td>...</td>\n",
       "      <td>...</td>\n",
       "      <td>...</td>\n",
       "      <td>...</td>\n",
       "      <td>...</td>\n",
       "    </tr>\n",
       "    <tr>\n",
       "      <th>2768</th>\n",
       "      <td>C10199</td>\n",
       "      <td>C10199</td>\n",
       "      <td>2183.9</td>\n",
       "      <td>4</td>\n",
       "      <td>5</td>\n",
       "      <td>[[4, 1], [4, 2], [4, 3], [4, 4]]</td>\n",
       "      <td>Sum</td>\n",
       "      <td>0.0</td>\n",
       "      <td>0</td>\n",
       "    </tr>\n",
       "    <tr>\n",
       "      <th>2769</th>\n",
       "      <td>C10199</td>\n",
       "      <td>C10199</td>\n",
       "      <td>3920.5</td>\n",
       "      <td>23</td>\n",
       "      <td>5</td>\n",
       "      <td>[[23, 1], [23, 2], [23, 3], [23, 4]]</td>\n",
       "      <td>Sum</td>\n",
       "      <td>0.0</td>\n",
       "      <td>0</td>\n",
       "    </tr>\n",
       "    <tr>\n",
       "      <th>2770</th>\n",
       "      <td>C10199</td>\n",
       "      <td>C10199</td>\n",
       "      <td>5820.6</td>\n",
       "      <td>57</td>\n",
       "      <td>5</td>\n",
       "      <td>[[57, 1], [57, 2], [57, 3], [57, 4]]</td>\n",
       "      <td>Sum</td>\n",
       "      <td>0.0</td>\n",
       "      <td>0</td>\n",
       "    </tr>\n",
       "    <tr>\n",
       "      <th>2771</th>\n",
       "      <td>C10199</td>\n",
       "      <td>C10199</td>\n",
       "      <td>2354.8</td>\n",
       "      <td>5</td>\n",
       "      <td>5</td>\n",
       "      <td>[[5, 1], [5, 2], [5, 3], [5, 4]]</td>\n",
       "      <td>Sum</td>\n",
       "      <td>0.0</td>\n",
       "      <td>0</td>\n",
       "    </tr>\n",
       "    <tr>\n",
       "      <th>2772</th>\n",
       "      <td>C10199</td>\n",
       "      <td>C10199</td>\n",
       "      <td>4602.9</td>\n",
       "      <td>40</td>\n",
       "      <td>5</td>\n",
       "      <td>[[40, 1], [40, 2], [40, 3], [40, 4]]</td>\n",
       "      <td>Sum</td>\n",
       "      <td>0.0</td>\n",
       "      <td>0</td>\n",
       "    </tr>\n",
       "  </tbody>\n",
       "</table>\n",
       "<p>2773 rows × 9 columns</p>\n",
       "</div>"
      ],
      "text/plain": [
       "     file_name sheet_name    value  aggregator_row_index  \\\n",
       "0       C10001     C10001  -21 139                     3   \n",
       "1       C10001     C10001      853                     3   \n",
       "2       C10001     C10001   -5 450                     6   \n",
       "3       C10001     C10001  -17 064                     9   \n",
       "4       C10001     C10001   -3 682                     9   \n",
       "...        ...        ...      ...                   ...   \n",
       "2768    C10199     C10199   2183.9                     4   \n",
       "2769    C10199     C10199   3920.5                    23   \n",
       "2770    C10199     C10199   5820.6                    57   \n",
       "2771    C10199     C10199   2354.8                     5   \n",
       "2772    C10199     C10199   4602.9                    40   \n",
       "\n",
       "      aggregator_column_index                    aggregatee_indices  operator  \\\n",
       "0                           3                      [[3, 2], [3, 1]]  Subtract   \n",
       "1                          18                    [[3, 16], [3, 17]]  Subtract   \n",
       "2                           6                      [[6, 5], [6, 4]]  Subtract   \n",
       "3                           3                      [[9, 1], [9, 2]]  Subtract   \n",
       "4                           6                      [[9, 4], [9, 5]]  Subtract   \n",
       "...                       ...                                   ...       ...   \n",
       "2768                        5      [[4, 1], [4, 2], [4, 3], [4, 4]]       Sum   \n",
       "2769                        5  [[23, 1], [23, 2], [23, 3], [23, 4]]       Sum   \n",
       "2770                        5  [[57, 1], [57, 2], [57, 3], [57, 4]]       Sum   \n",
       "2771                        5      [[5, 1], [5, 2], [5, 3], [5, 4]]       Sum   \n",
       "2772                        5  [[40, 1], [40, 2], [40, 3], [40, 4]]       Sum   \n",
       "\n",
       "      error_bound  aggregatee_group  \n",
       "0             0.0                 0  \n",
       "1             0.0                 0  \n",
       "2             0.0                 0  \n",
       "3             0.0                 0  \n",
       "4             0.0                 0  \n",
       "...           ...               ...  \n",
       "2768          0.0                 0  \n",
       "2769          0.0                 0  \n",
       "2770          0.0                 0  \n",
       "2771          0.0                 0  \n",
       "2772          0.0                 0  \n",
       "\n",
       "[2773 rows x 9 columns]"
      ]
     },
     "execution_count": 98,
     "metadata": {},
     "output_type": "execute_result"
    }
   ],
   "source": [
    "df"
   ]
  },
  {
   "cell_type": "code",
   "execution_count": 99,
   "metadata": {},
   "outputs": [],
   "source": [
    "kw_distribution = {}\n",
    "\n",
    "for file in dataset:\n",
    "    value_array = file[2]\n",
    "    file_name = file[0]\n",
    "    sheet_name = file[1]\n",
    "    for i in range(len(value_array)):\n",
    "        all_words = list(itertools.chain(*[word_tokenize(value) for value in value_array[i]]))\n",
    "        if hasKeywords(sum_kw_list, all_words):\n",
    "            operator = 'Sum'\n",
    "        elif hasKeywords(subtract_kw_list, all_words):\n",
    "            operator = 'Subtract'\n",
    "        elif hasKeywords(average_kw_list, all_words):\n",
    "            operator = 'Average'\n",
    "        elif hasKeywords(percentage_kw_list, all_words):\n",
    "            operator = 'Percentage'\n",
    "        filtered_df = df[(df['file_name'] == file_name) & (df['sheet_name'] == sheet_name) & (df['aggregator_row_index'] == i) & (df['operator'] == operator)]\n",
    "        if operator not in kw_distribution:\n",
    "            kw_distribution[operator] = [0, 0]\n",
    "        if len(filtered_df) > 0:\n",
    "            kw_distribution[operator][0] += 1 \n",
    "        else:\n",
    "            kw_distribution[operator][1] += 1\n",
    "            \n",
    "    for i in range(len(value_array[0])):\n",
    "        column_values = [value[i] for value in value_array]\n",
    "        all_words = list(itertools.chain(*[word_tokenize(value) for value in column_values]))\n",
    "        if hasKeywords(sum_kw_list, all_words):\n",
    "            operator = 'Sum'\n",
    "        elif hasKeywords(subtract_kw_list, all_words):\n",
    "            operator = 'Subtract'\n",
    "        elif hasKeywords(average_kw_list, all_words):\n",
    "            operator = 'Average'\n",
    "        elif hasKeywords(percentage_kw_list, all_words):\n",
    "            operator = 'Percentage'\n",
    "        filtered_df = df[(df['file_name'] == file_name) & (df['sheet_name'] == sheet_name) & (df['aggregator_row_index'] == i) & (df['operator'] == operator)]\n",
    "        if operator not in kw_distribution:\n",
    "            kw_distribution[operator] = [0, 0]\n",
    "        if len(filtered_df) > 0:\n",
    "            kw_distribution[operator][0] += 1 \n",
    "        else:\n",
    "            kw_distribution[operator][1] += 1                "
   ]
  },
  {
   "cell_type": "code",
   "execution_count": 100,
   "metadata": {},
   "outputs": [
    {
     "data": {
      "text/plain": [
       "{'Sum': [1119, 5728],\n",
       " 'Subtract': [0, 8],\n",
       " 'Average': [12, 198],\n",
       " 'Percentage': [66, 235]}"
      ]
     },
     "execution_count": 100,
     "metadata": {},
     "output_type": "execute_result"
    }
   ],
   "source": [
    "# first item: has kw, has aggregator\n",
    "kw_distribution"
   ]
  },
  {
   "cell_type": "markdown",
   "metadata": {},
   "source": [
    "# Distribution of number of hierarchies in left/top attributes"
   ]
  },
  {
   "cell_type": "code",
   "execution_count": 101,
   "metadata": {},
   "outputs": [],
   "source": [
    "# load troy dataset ground truth\n",
    "input_path = '/Users/lan/Documents/hpi/projects/hierarchical-structure-detection/data/TabbyXL Experiment Data/data/gt'\n",
    "\n",
    "import glob\n",
    "\n",
    "import os\n",
    "file_path_pattern = os.path.join(input_path, '*.xlsx')\n",
    "\n",
    "import pandas\n",
    "\n",
    "file_left_attr_hierarchy_arr = []\n",
    "file_top_attr_hierarchy_arr = []\n",
    "for file in sorted(glob.glob(file_path_pattern)):\n",
    "    sheet = pandas.read_excel(file, header=0, sheet_name='CANONICAL TABLE')\n",
    "    num_hierarchies_all_left = sheet['RowHeading1'].apply(lambda value: len(str(value).split('|')))\n",
    "    num_hierarchies_all_top = sheet['ColumnHeading'].apply(lambda value: len(str(value).split('|')))\n",
    "    max_num_hierarchy_left = max(num_hierarchies_all_left)\n",
    "    max_num_hierarchy_top = max(num_hierarchies_all_top)\n",
    "    file_left_attr_hierarchy_arr.append([file, max_num_hierarchy_left])\n",
    "    file_top_attr_hierarchy_arr.append([file, max_num_hierarchy_top])\n",
    "\n",
    "flah_df = pandas.DataFrame(file_left_attr_hierarchy_arr, columns=['File', 'Hierarchy Depth'])\n",
    "ftah_df = pandas.DataFrame(file_top_attr_hierarchy_arr, columns=['File', 'Hierarchy Depth'])"
   ]
  },
  {
   "cell_type": "code",
   "execution_count": 102,
   "metadata": {},
   "outputs": [],
   "source": [
    "groups_hierarchy_depth_left = flah_df.groupby(['Hierarchy Depth']).count().reset_index()\n",
    "groups_hierarchy_depth_top = ftah_df.groupby(['Hierarchy Depth']).count().reset_index()"
   ]
  },
  {
   "cell_type": "code",
   "execution_count": 103,
   "metadata": {},
   "outputs": [
    {
     "name": "stderr",
     "output_type": "stream",
     "text": [
      "/Users/lan/miniconda3/envs/aggrdet/lib/python3.7/site-packages/ipykernel_launcher.py:13: MatplotlibDeprecationWarning: normalize=None does not normalize if the sum is less than 1 but this behavior is deprecated since 3.3 until two minor releases later. After the deprecation period the default value will be normalize=True. To prevent normalization pass normalize=False \n",
      "  del sys.path[0]\n",
      "/Users/lan/miniconda3/envs/aggrdet/lib/python3.7/site-packages/ipykernel_launcher.py:17: MatplotlibDeprecationWarning: normalize=None does not normalize if the sum is less than 1 but this behavior is deprecated since 3.3 until two minor releases later. After the deprecation period the default value will be normalize=True. To prevent normalization pass normalize=False \n"
     ]
    },
    {
     "data": {
      "image/png": "[encoded data removed]",
      "text/plain": [
       "<Figure size 800x500 with 2 Axes>"
      ]
     },
     "metadata": {},
     "output_type": "display_data"
    }
   ],
   "source": [
    "import matplotlib.pyplot as plt\n",
    "\n",
    "# Pie chart, where the slices will be ordered and plotted counter-clockwise:\n",
    "hierarchy_depth_left = groups_hierarchy_depth_left['Hierarchy Depth']\n",
    "count_left = groups_hierarchy_depth_left['File']\n",
    "\n",
    "hierarchy_depth_top = groups_hierarchy_depth_top['Hierarchy Depth']\n",
    "count_top = groups_hierarchy_depth_top['File']\n",
    "\n",
    "# explode = (0, 0.1, 0, 0)  # only \"explode\" the 2nd slice (i.e. 'Hogs')\n",
    "\n",
    "fig, (ax1, ax2) = plt.subplots(1, 2)\n",
    "ax1.pie(count_left, labels=hierarchy_depth_left, autopct='%1.1f%%', startangle=90)\n",
    "ax1.axis('equal')  # Equal aspect ratio ensures that pie is drawn as a circle.\n",
    "ax1.set_title('Distribution of Row Header Hierarchy Depth.')\n",
    "\n",
    "ax2.pie(count_top, labels=hierarchy_depth_top, autopct='%1.1f%%', startangle=90)\n",
    "ax2.axis('equal')\n",
    "ax2.set_title('Distribution of Column Header Hierarchy Depth')\n",
    "\n",
    "plt.show()"
   ]
  },
  {
   "cell_type": "markdown",
   "metadata": {},
   "source": [
    "# Distribution of Operators (Add, Subtract, Average, Percentage)"
   ]
  },
  {
   "cell_type": "code",
   "execution_count": 104,
   "metadata": {},
   "outputs": [
    {
     "ename": "FileNotFoundError",
     "evalue": "[Errno 2] No such file or directory: '/Users/lan/Documents/hpi/projects/hierarchical-structure-detection/experiments/operator-distribution.csv'",
     "output_type": "error",
     "traceback": [
      "\u001b[0;31m---------------------------------------------------------------------------\u001b[0m",
      "\u001b[0;31mFileNotFoundError\u001b[0m                         Traceback (most recent call last)",
      "\u001b[0;32m<ipython-input-104-ba633890fe16>\u001b[0m in \u001b[0;36m<module>\u001b[0;34m\u001b[0m\n\u001b[1;32m      1\u001b[0m \u001b[0minput_path\u001b[0m \u001b[0;34m=\u001b[0m \u001b[0;34m'/Users/lan/Documents/hpi/projects/hierarchical-structure-detection/experiments/operator-distribution.csv'\u001b[0m\u001b[0;34m\u001b[0m\u001b[0;34m\u001b[0m\u001b[0m\n\u001b[1;32m      2\u001b[0m \u001b[0;34m\u001b[0m\u001b[0m\n\u001b[0;32m----> 3\u001b[0;31m \u001b[0msheet\u001b[0m \u001b[0;34m=\u001b[0m \u001b[0mpandas\u001b[0m\u001b[0;34m.\u001b[0m\u001b[0mread_csv\u001b[0m\u001b[0;34m(\u001b[0m\u001b[0minput_path\u001b[0m\u001b[0;34m,\u001b[0m \u001b[0mheader\u001b[0m\u001b[0;34m=\u001b[0m\u001b[0;36m0\u001b[0m\u001b[0;34m)\u001b[0m\u001b[0;34m\u001b[0m\u001b[0;34m\u001b[0m\u001b[0m\n\u001b[0m\u001b[1;32m      4\u001b[0m \u001b[0;34m\u001b[0m\u001b[0m\n\u001b[1;32m      5\u001b[0m \u001b[0msheet\u001b[0m\u001b[0;34m\u001b[0m\u001b[0;34m\u001b[0m\u001b[0m\n",
      "\u001b[0;32m~/miniconda3/envs/aggrdet/lib/python3.7/site-packages/pandas/io/parsers.py\u001b[0m in \u001b[0;36mread_csv\u001b[0;34m(filepath_or_buffer, sep, delimiter, header, names, index_col, usecols, squeeze, prefix, mangle_dupe_cols, dtype, engine, converters, true_values, false_values, skipinitialspace, skiprows, skipfooter, nrows, na_values, keep_default_na, na_filter, verbose, skip_blank_lines, parse_dates, infer_datetime_format, keep_date_col, date_parser, dayfirst, cache_dates, iterator, chunksize, compression, thousands, decimal, lineterminator, quotechar, quoting, doublequote, escapechar, comment, encoding, dialect, error_bad_lines, warn_bad_lines, delim_whitespace, low_memory, memory_map, float_precision, storage_options)\u001b[0m\n\u001b[1;32m    603\u001b[0m     \u001b[0mkwds\u001b[0m\u001b[0;34m.\u001b[0m\u001b[0mupdate\u001b[0m\u001b[0;34m(\u001b[0m\u001b[0mkwds_defaults\u001b[0m\u001b[0;34m)\u001b[0m\u001b[0;34m\u001b[0m\u001b[0;34m\u001b[0m\u001b[0m\n\u001b[1;32m    604\u001b[0m \u001b[0;34m\u001b[0m\u001b[0m\n\u001b[0;32m--> 605\u001b[0;31m     \u001b[0;32mreturn\u001b[0m \u001b[0m_read\u001b[0m\u001b[0;34m(\u001b[0m\u001b[0mfilepath_or_buffer\u001b[0m\u001b[0;34m,\u001b[0m \u001b[0mkwds\u001b[0m\u001b[0;34m)\u001b[0m\u001b[0;34m\u001b[0m\u001b[0;34m\u001b[0m\u001b[0m\n\u001b[0m\u001b[1;32m    606\u001b[0m \u001b[0;34m\u001b[0m\u001b[0m\n\u001b[1;32m    607\u001b[0m \u001b[0;34m\u001b[0m\u001b[0m\n",
      "\u001b[0;32m~/miniconda3/envs/aggrdet/lib/python3.7/site-packages/pandas/io/parsers.py\u001b[0m in \u001b[0;36m_read\u001b[0;34m(filepath_or_buffer, kwds)\u001b[0m\n\u001b[1;32m    455\u001b[0m \u001b[0;34m\u001b[0m\u001b[0m\n\u001b[1;32m    456\u001b[0m     \u001b[0;31m# Create the parser.\u001b[0m\u001b[0;34m\u001b[0m\u001b[0;34m\u001b[0m\u001b[0;34m\u001b[0m\u001b[0m\n\u001b[0;32m--> 457\u001b[0;31m     \u001b[0mparser\u001b[0m \u001b[0;34m=\u001b[0m \u001b[0mTextFileReader\u001b[0m\u001b[0;34m(\u001b[0m\u001b[0mfilepath_or_buffer\u001b[0m\u001b[0;34m,\u001b[0m \u001b[0;34m**\u001b[0m\u001b[0mkwds\u001b[0m\u001b[0;34m)\u001b[0m\u001b[0;34m\u001b[0m\u001b[0;34m\u001b[0m\u001b[0m\n\u001b[0m\u001b[1;32m    458\u001b[0m \u001b[0;34m\u001b[0m\u001b[0m\n\u001b[1;32m    459\u001b[0m     \u001b[0;32mif\u001b[0m \u001b[0mchunksize\u001b[0m \u001b[0;32mor\u001b[0m \u001b[0miterator\u001b[0m\u001b[0;34m:\u001b[0m\u001b[0;34m\u001b[0m\u001b[0;34m\u001b[0m\u001b[0m\n",
      "\u001b[0;32m~/miniconda3/envs/aggrdet/lib/python3.7/site-packages/pandas/io/parsers.py\u001b[0m in \u001b[0;36m__init__\u001b[0;34m(self, f, engine, **kwds)\u001b[0m\n\u001b[1;32m    812\u001b[0m             \u001b[0mself\u001b[0m\u001b[0;34m.\u001b[0m\u001b[0moptions\u001b[0m\u001b[0;34m[\u001b[0m\u001b[0;34m\"has_index_names\"\u001b[0m\u001b[0;34m]\u001b[0m \u001b[0;34m=\u001b[0m \u001b[0mkwds\u001b[0m\u001b[0;34m[\u001b[0m\u001b[0;34m\"has_index_names\"\u001b[0m\u001b[0;34m]\u001b[0m\u001b[0;34m\u001b[0m\u001b[0;34m\u001b[0m\u001b[0m\n\u001b[1;32m    813\u001b[0m \u001b[0;34m\u001b[0m\u001b[0m\n\u001b[0;32m--> 814\u001b[0;31m         \u001b[0mself\u001b[0m\u001b[0;34m.\u001b[0m\u001b[0m_engine\u001b[0m \u001b[0;34m=\u001b[0m \u001b[0mself\u001b[0m\u001b[0;34m.\u001b[0m\u001b[0m_make_engine\u001b[0m\u001b[0;34m(\u001b[0m\u001b[0mself\u001b[0m\u001b[0;34m.\u001b[0m\u001b[0mengine\u001b[0m\u001b[0;34m)\u001b[0m\u001b[0;34m\u001b[0m\u001b[0;34m\u001b[0m\u001b[0m\n\u001b[0m\u001b[1;32m    815\u001b[0m \u001b[0;34m\u001b[0m\u001b[0m\n\u001b[1;32m    816\u001b[0m     \u001b[0;32mdef\u001b[0m \u001b[0mclose\u001b[0m\u001b[0;34m(\u001b[0m\u001b[0mself\u001b[0m\u001b[0;34m)\u001b[0m\u001b[0;34m:\u001b[0m\u001b[0;34m\u001b[0m\u001b[0;34m\u001b[0m\u001b[0m\n",
      "\u001b[0;32m~/miniconda3/envs/aggrdet/lib/python3.7/site-packages/pandas/io/parsers.py\u001b[0m in \u001b[0;36m_make_engine\u001b[0;34m(self, engine)\u001b[0m\n\u001b[1;32m   1043\u001b[0m             )\n\u001b[1;32m   1044\u001b[0m         \u001b[0;31m# error: Too many arguments for \"ParserBase\"\u001b[0m\u001b[0;34m\u001b[0m\u001b[0;34m\u001b[0m\u001b[0;34m\u001b[0m\u001b[0m\n\u001b[0;32m-> 1045\u001b[0;31m         \u001b[0;32mreturn\u001b[0m \u001b[0mmapping\u001b[0m\u001b[0;34m[\u001b[0m\u001b[0mengine\u001b[0m\u001b[0;34m]\u001b[0m\u001b[0;34m(\u001b[0m\u001b[0mself\u001b[0m\u001b[0;34m.\u001b[0m\u001b[0mf\u001b[0m\u001b[0;34m,\u001b[0m \u001b[0;34m**\u001b[0m\u001b[0mself\u001b[0m\u001b[0;34m.\u001b[0m\u001b[0moptions\u001b[0m\u001b[0;34m)\u001b[0m  \u001b[0;31m# type: ignore[call-arg]\u001b[0m\u001b[0;34m\u001b[0m\u001b[0;34m\u001b[0m\u001b[0m\n\u001b[0m\u001b[1;32m   1046\u001b[0m \u001b[0;34m\u001b[0m\u001b[0m\n\u001b[1;32m   1047\u001b[0m     \u001b[0;32mdef\u001b[0m \u001b[0m_failover_to_python\u001b[0m\u001b[0;34m(\u001b[0m\u001b[0mself\u001b[0m\u001b[0;34m)\u001b[0m\u001b[0;34m:\u001b[0m\u001b[0;34m\u001b[0m\u001b[0;34m\u001b[0m\u001b[0m\n",
      "\u001b[0;32m~/miniconda3/envs/aggrdet/lib/python3.7/site-packages/pandas/io/parsers.py\u001b[0m in \u001b[0;36m__init__\u001b[0;34m(self, src, **kwds)\u001b[0m\n\u001b[1;32m   1860\u001b[0m \u001b[0;34m\u001b[0m\u001b[0m\n\u001b[1;32m   1861\u001b[0m         \u001b[0;31m# open handles\u001b[0m\u001b[0;34m\u001b[0m\u001b[0;34m\u001b[0m\u001b[0;34m\u001b[0m\u001b[0m\n\u001b[0;32m-> 1862\u001b[0;31m         \u001b[0mself\u001b[0m\u001b[0;34m.\u001b[0m\u001b[0m_open_handles\u001b[0m\u001b[0;34m(\u001b[0m\u001b[0msrc\u001b[0m\u001b[0;34m,\u001b[0m \u001b[0mkwds\u001b[0m\u001b[0;34m)\u001b[0m\u001b[0;34m\u001b[0m\u001b[0;34m\u001b[0m\u001b[0m\n\u001b[0m\u001b[1;32m   1863\u001b[0m         \u001b[0;32massert\u001b[0m \u001b[0mself\u001b[0m\u001b[0;34m.\u001b[0m\u001b[0mhandles\u001b[0m \u001b[0;32mis\u001b[0m \u001b[0;32mnot\u001b[0m \u001b[0;32mNone\u001b[0m\u001b[0;34m\u001b[0m\u001b[0;34m\u001b[0m\u001b[0m\n\u001b[1;32m   1864\u001b[0m         \u001b[0;32mfor\u001b[0m \u001b[0mkey\u001b[0m \u001b[0;32min\u001b[0m \u001b[0;34m(\u001b[0m\u001b[0;34m\"storage_options\"\u001b[0m\u001b[0;34m,\u001b[0m \u001b[0;34m\"encoding\"\u001b[0m\u001b[0;34m,\u001b[0m \u001b[0;34m\"memory_map\"\u001b[0m\u001b[0;34m,\u001b[0m \u001b[0;34m\"compression\"\u001b[0m\u001b[0;34m)\u001b[0m\u001b[0;34m:\u001b[0m\u001b[0;34m\u001b[0m\u001b[0;34m\u001b[0m\u001b[0m\n",
      "\u001b[0;32m~/miniconda3/envs/aggrdet/lib/python3.7/site-packages/pandas/io/parsers.py\u001b[0m in \u001b[0;36m_open_handles\u001b[0;34m(self, src, kwds)\u001b[0m\n\u001b[1;32m   1361\u001b[0m             \u001b[0mcompression\u001b[0m\u001b[0;34m=\u001b[0m\u001b[0mkwds\u001b[0m\u001b[0;34m.\u001b[0m\u001b[0mget\u001b[0m\u001b[0;34m(\u001b[0m\u001b[0;34m\"compression\"\u001b[0m\u001b[0;34m,\u001b[0m \u001b[0;32mNone\u001b[0m\u001b[0;34m)\u001b[0m\u001b[0;34m,\u001b[0m\u001b[0;34m\u001b[0m\u001b[0;34m\u001b[0m\u001b[0m\n\u001b[1;32m   1362\u001b[0m             \u001b[0mmemory_map\u001b[0m\u001b[0;34m=\u001b[0m\u001b[0mkwds\u001b[0m\u001b[0;34m.\u001b[0m\u001b[0mget\u001b[0m\u001b[0;34m(\u001b[0m\u001b[0;34m\"memory_map\"\u001b[0m\u001b[0;34m,\u001b[0m \u001b[0;32mFalse\u001b[0m\u001b[0;34m)\u001b[0m\u001b[0;34m,\u001b[0m\u001b[0;34m\u001b[0m\u001b[0;34m\u001b[0m\u001b[0m\n\u001b[0;32m-> 1363\u001b[0;31m             \u001b[0mstorage_options\u001b[0m\u001b[0;34m=\u001b[0m\u001b[0mkwds\u001b[0m\u001b[0;34m.\u001b[0m\u001b[0mget\u001b[0m\u001b[0;34m(\u001b[0m\u001b[0;34m\"storage_options\"\u001b[0m\u001b[0;34m,\u001b[0m \u001b[0;32mNone\u001b[0m\u001b[0;34m)\u001b[0m\u001b[0;34m,\u001b[0m\u001b[0;34m\u001b[0m\u001b[0;34m\u001b[0m\u001b[0m\n\u001b[0m\u001b[1;32m   1364\u001b[0m         )\n\u001b[1;32m   1365\u001b[0m \u001b[0;34m\u001b[0m\u001b[0m\n",
      "\u001b[0;32m~/miniconda3/envs/aggrdet/lib/python3.7/site-packages/pandas/io/common.py\u001b[0m in \u001b[0;36mget_handle\u001b[0;34m(path_or_buf, mode, encoding, compression, memory_map, is_text, errors, storage_options)\u001b[0m\n\u001b[1;32m    642\u001b[0m                 \u001b[0mencoding\u001b[0m\u001b[0;34m=\u001b[0m\u001b[0mioargs\u001b[0m\u001b[0;34m.\u001b[0m\u001b[0mencoding\u001b[0m\u001b[0;34m,\u001b[0m\u001b[0;34m\u001b[0m\u001b[0;34m\u001b[0m\u001b[0m\n\u001b[1;32m    643\u001b[0m                 \u001b[0merrors\u001b[0m\u001b[0;34m=\u001b[0m\u001b[0merrors\u001b[0m\u001b[0;34m,\u001b[0m\u001b[0;34m\u001b[0m\u001b[0;34m\u001b[0m\u001b[0m\n\u001b[0;32m--> 644\u001b[0;31m                 \u001b[0mnewline\u001b[0m\u001b[0;34m=\u001b[0m\u001b[0;34m\"\"\u001b[0m\u001b[0;34m,\u001b[0m\u001b[0;34m\u001b[0m\u001b[0;34m\u001b[0m\u001b[0m\n\u001b[0m\u001b[1;32m    645\u001b[0m             )\n\u001b[1;32m    646\u001b[0m         \u001b[0;32melse\u001b[0m\u001b[0;34m:\u001b[0m\u001b[0;34m\u001b[0m\u001b[0;34m\u001b[0m\u001b[0m\n",
      "\u001b[0;31mFileNotFoundError\u001b[0m: [Errno 2] No such file or directory: '/Users/lan/Documents/hpi/projects/hierarchical-structure-detection/experiments/operator-distribution.csv'"
     ]
    }
   ],
   "source": [
    "input_path = '/Users/lan/Documents/hpi/projects/hierarchical-structure-detection/experiments/operator-distribution.csv'\n",
    "\n",
    "sheet = pandas.read_csv(input_path, header=0)\n",
    "\n",
    "sheet"
   ]
  },
  {
   "cell_type": "code",
   "execution_count": null,
   "metadata": {},
   "outputs": [],
   "source": []
  }
 ],
 "metadata": {
  "kernelspec": {
   "display_name": "Aggrdet",
   "language": "python",
   "name": "aggrdet"
  },
  "language_info": {
   "codemirror_mode": {
    "name": "ipython",
    "version": 3
   },
   "file_extension": ".py",
   "mimetype": "text/x-python",
   "name": "python",
   "nbconvert_exporter": "python",
   "pygments_lexer": "ipython3",
   "version": "3.7.9"
  }
 },
 "nbformat": 4,
 "nbformat_minor": 4
}
